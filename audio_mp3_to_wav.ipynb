{
 "cells": [
  {
   "cell_type": "code",
   "execution_count": 1,
   "id": "fe0e745b",
   "metadata": {},
   "outputs": [],
   "source": [
    "from pydub import AudioSegment\n",
    "import os\n",
    "\n",
    "#path of the MP3 files\n",
    "mp3files = \"C:/Users/Anant/Desktop/analytix_labs/audio\"\n",
    "\n",
    "# Set the directory where the WAV files will be saved\n",
    "wavfiles = \"C:/Users/Anant/Desktop/analytix_labs/audio\"\n",
    "\n",
    "# Get a list of all the MP3 files in the directory\n",
    "mp3_files = [file for file in os.listdir(mp3files) if file.endswith(\".mp3\")]\n",
    "#set the path of ffmpeg \n",
    "AudioSegment.ffmpeg = \"C:/Users/Anant/Desktop/analytix_labs/ffmpeg-2023-04-03-git-6941788d24-full_build/ffmpeg-2023-04-03-git-6941788d24-full_build/bin\"\n",
    "\n",
    "# Convert each MP3 file to WAV format and save it in the WAV directory\n",
    "for mp3_file in mp3_files:\n",
    "    # Load the MP3 file using pydub\n",
    "    #print(mp3files+\"/\"+mp3_file)\n",
    "    sound = AudioSegment.from_mp3(mp3files+\"/\"+mp3_file)\n",
    "\n",
    "    # Export the sound to WAV format and save it in the WAV directory\n",
    "    sound.export(wavfiles+\"/\"+os.path.splitext(mp3_file)[0] + \".wav\", format=\"wav\")\n"
   ]
  }
 ],
 "metadata": {
  "kernelspec": {
   "display_name": "Python 3 (ipykernel)",
   "language": "python",
   "name": "python3"
  },
  "language_info": {
   "codemirror_mode": {
    "name": "ipython",
    "version": 3
   },
   "file_extension": ".py",
   "mimetype": "text/x-python",
   "name": "python",
   "nbconvert_exporter": "python",
   "pygments_lexer": "ipython3",
   "version": "3.8.16"
  }
 },
 "nbformat": 4,
 "nbformat_minor": 5
}
